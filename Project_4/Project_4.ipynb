{
 "cells": [
  {
   "cell_type": "code",
   "execution_count": 162,
   "id": "505f526c-ec8e-46da-b80f-873e5ff2d32e",
   "metadata": {},
   "outputs": [],
   "source": [
    "# This Python 3 environment comes with many helpful analytics libraries installed\n",
    "# It is defined by the kaggle/python Docker image: https://github.com/kaggle/docker-python\n",
    "# For example, here's several helpful packages to load\n",
    "\n",
    "\n",
    "# Input data files are available in the read-only \"../input/\" directory\n",
    "# For example, running this (by clicking run or pressing Shift+Enter) will list all files under the input directory\n",
    "\n",
    "import os\n",
    "import pandas as pd\n",
    "import numpy as np\n",
    "import matplotlib.pyplot as plt \n",
    "import csv\n",
    "from sklearn.model_selection import train_test_split\n",
    "from sklearn.preprocessing import StandardScaler\n",
    "from sklearn.feature_extraction.text import CountVectorizer\n",
    "from sklearn.naive_bayes import MultinomialNB, BernoulliNB\n",
    "from sklearn.pipeline import Pipeline\n",
    "from sklearn.svm import SVC\n",
    "from xgboost import XGBRegressor"
   ]
  },
  {
   "cell_type": "markdown",
   "id": "1da549c3-c1d7-4baa-b0eb-509581c4afcb",
   "metadata": {},
   "source": [
    "# 1. Frame the problem\n",
    "Using the customer description, Define the problem your trying to solve in your own words (remember this is not technial but must be specific so the customer understands the project"
   ]
  },
  {
   "cell_type": "code",
   "execution_count": 129,
   "id": "61faa4b4-ac95-4774-8b6a-3b0ad14595d3",
   "metadata": {},
   "outputs": [],
   "source": [
    "#Create an ml model that predicts whether a given email is spam or ham"
   ]
  },
  {
   "cell_type": "markdown",
   "id": "34051845-b590-4a89-b079-3000881862e3",
   "metadata": {},
   "source": [
    "# 2. Get the Data \n",
    "Define how you recieved the data (provided, gathered..)"
   ]
  },
  {
   "cell_type": "code",
   "execution_count": 130,
   "id": "7bc6c1c7-81d6-46b0-8259-ada2c78e34e5",
   "metadata": {},
   "outputs": [
    {
     "data": {
      "text/html": [
       "<div>\n",
       "<style scoped>\n",
       "    .dataframe tbody tr th:only-of-type {\n",
       "        vertical-align: middle;\n",
       "    }\n",
       "\n",
       "    .dataframe tbody tr th {\n",
       "        vertical-align: top;\n",
       "    }\n",
       "\n",
       "    .dataframe thead th {\n",
       "        text-align: right;\n",
       "    }\n",
       "</style>\n",
       "<table border=\"1\" class=\"dataframe\">\n",
       "  <thead>\n",
       "    <tr style=\"text-align: right;\">\n",
       "      <th></th>\n",
       "      <th>Filename</th>\n",
       "      <th>Content</th>\n",
       "      <th>IsSpam</th>\n",
       "    </tr>\n",
       "  </thead>\n",
       "  <tbody>\n",
       "    <tr>\n",
       "      <th>0</th>\n",
       "      <td>6-14msg3.txt</td>\n",
       "      <td>Subject: wkshp : * early * - e ( = ) uralic in...</td>\n",
       "      <td>0</td>\n",
       "    </tr>\n",
       "    <tr>\n",
       "      <th>1</th>\n",
       "      <td>6-110msg1.txt</td>\n",
       "      <td>Subject: job announcement - academium sinica\\n...</td>\n",
       "      <td>0</td>\n",
       "    </tr>\n",
       "    <tr>\n",
       "      <th>2</th>\n",
       "      <td>9-63msg1.txt</td>\n",
       "      <td>Subject: knowledge language bibliography\\n\\nas...</td>\n",
       "      <td>0</td>\n",
       "    </tr>\n",
       "    <tr>\n",
       "      <th>3</th>\n",
       "      <td>spmsga95.txt</td>\n",
       "      <td>Subject: service update\\n\\ndue significant rap...</td>\n",
       "      <td>1</td>\n",
       "    </tr>\n",
       "    <tr>\n",
       "      <th>4</th>\n",
       "      <td>6-97msg1.txt</td>\n",
       "      <td>Subject: job announcement\\n\\njob announcement ...</td>\n",
       "      <td>0</td>\n",
       "    </tr>\n",
       "  </tbody>\n",
       "</table>\n",
       "</div>"
      ],
      "text/plain": [
       "        Filename                                            Content  IsSpam\n",
       "0   6-14msg3.txt  Subject: wkshp : * early * - e ( = ) uralic in...       0\n",
       "1  6-110msg1.txt  Subject: job announcement - academium sinica\\n...       0\n",
       "2   9-63msg1.txt  Subject: knowledge language bibliography\\n\\nas...       0\n",
       "3   spmsga95.txt  Subject: service update\\n\\ndue significant rap...       1\n",
       "4   6-97msg1.txt  Subject: job announcement\\n\\njob announcement ...       0"
      ]
     },
     "execution_count": 130,
     "metadata": {},
     "output_type": "execute_result"
    }
   ],
   "source": [
    "#Recieved and data from text folder and converted to csv file\n",
    "# path = \"Emails\"\n",
    "# outputCSV = \"Output.csv\"\n",
    "# data = []\n",
    "\n",
    "# csvHeader = ['Filename', 'Content', 'IsSpam']\n",
    "\n",
    "# for filename in os.listdir(path):\n",
    "#     if filename.endswith(\".txt\"):\n",
    "#         filepath = os.path.join(path, filename)\n",
    "#         with open(filepath, 'r', encoding='utf-8') as f:\n",
    "#             content = f.read()\n",
    "#         if filename.startswith('s'):\n",
    "#             is_spam = 1\n",
    "#         else:\n",
    "#             is_spam = 0\n",
    "#         data.append([filename, content, is_spam])\n",
    "\n",
    "# with open(outputCSV, 'w', newline='', encoding='utf-8') as csvfile:\n",
    "#     csv_writer = csv.writer(csvfile)\n",
    "#     csv_writer.writerow(csvHeader)\n",
    "#     csv_writer.writerows(data)\n",
    " \n",
    "\n",
    "#Recieved and read the data from the csv file using pandas\n",
    "data = pd.read_csv(\"Output.csv\")\n",
    "data.head()"
   ]
  },
  {
   "cell_type": "markdown",
   "id": "19019dbf-d5ba-48b1-aa1d-0a0ccd54a8bd",
   "metadata": {},
   "source": [
    "# 3. Explore the Data\n",
    "Gain insights into the data you have from step 2, making sure to identify any bias"
   ]
  },
  {
   "cell_type": "code",
   "execution_count": 125,
   "id": "b9c038b7-56e9-4fb5-adaa-a8ffca601c52",
   "metadata": {},
   "outputs": [
    {
     "data": {
      "image/png": "[encoded data removed]",
      "text/plain": [
       "<Figure size 640x480 with 1 Axes>"
      ]
     },
     "metadata": {},
     "output_type": "display_data"
    },
    {
     "data": {
      "image/png": "[encoded data removed]",
      "text/plain": [
       "<Figure size 640x480 with 1 Axes>"
      ]
     },
     "metadata": {},
     "output_type": "display_data"
    }
   ],
   "source": [
    "#Checking ham and spam counts\n",
    "counts = data['IsSpam'].value_counts()  \n",
    "plt.bar(['Ham', 'Spam'], counts, color=['blue', 'red'])\n",
    "plt.ylabel('Number of Emails')\n",
    "plt.title('Ham vs Spam Email Count')\n",
    "plt.show()\n",
    "\n",
    "#Checking lengths of emails\n",
    "lengths_ham = data[data['IsSpam']==0]['Content'].str.len()\n",
    "lengths_spam = data[data['IsSpam']==1]['Content'].str.len()\n",
    "\n",
    "plt.hist([lengths_ham, lengths_spam], bins=50, label=['Ham','Spam'], color=['blue','red'])\n",
    "plt.xlabel('Email Length (characters)')\n",
    "plt.ylabel('Number of Emails')\n",
    "plt.title('Email Length Distribution by Spam/Ham')\n",
    "plt.legend()\n",
    "plt.show()\n",
    "\n",
    "#There are more ham emails than spam emails and the spam emails are longer"
   ]
  },
  {
   "cell_type": "markdown",
   "id": "dd951fa2-be12-43b2-a9ff-34eda71493f7",
   "metadata": {},
   "source": [
    "# 4.Prepare the Data\n",
    "\n",
    "\n",
    "Apply any data transformations and explain what and why\n"
   ]
  },
  {
   "cell_type": "code",
   "execution_count": 147,
   "id": "af7ee034-3d93-42ac-841f-3acef128c2c4",
   "metadata": {},
   "outputs": [],
   "source": [
    "#Converts the data to variables for training\n",
    "x = data['Content']\n",
    "y = data.loc[x.index, 'IsSpam']"
   ]
  },
  {
   "cell_type": "markdown",
   "id": "91d5077c-6fb5-4896-b1c2-2e85675613f0",
   "metadata": {},
   "source": [
    "# 5. Model the data\n",
    "Using selected ML models, experment with your choices and describe your findings. Finish by selecting a Model to continue with\n"
   ]
  },
  {
   "cell_type": "code",
   "execution_count": 158,
   "id": "074aaaf6-b7c5-4c82-93f5-1031b4d0e00b",
   "metadata": {},
   "outputs": [],
   "source": [
    "#Splits the data for training and testing\n",
    "x_train, x_test, y_train, y_test = train_test_split(\n",
    "    x, y, test_size=0.2, random_state=42)"
   ]
  },
  {
   "cell_type": "code",
   "execution_count": 170,
   "id": "6f22c886-4b44-49c9-8a4a-8f04ae6ddf4d",
   "metadata": {},
   "outputs": [
    {
     "name": "stdout",
     "output_type": "stream",
     "text": [
      "MultinomialNB Accuracy 0.9828571428571429\n"
     ]
    }
   ],
   "source": [
    "#Trying different models to find the best model to predict ham or spam\n",
    "NBmodel = Pipeline([\n",
    "    ('vectorizer',CountVectorizer()),\n",
    "    ('nb', MultinomialNB())\n",
    "])\n",
    "\n",
    "NBmodel.fit(x_train, y_train)\n",
    "NBaccuracy = NBmodel.score(x_test, y_test)\n",
    "print(\"MultinomialNB Accuracy\", NBaccuracy)"
   ]
  },
  {
   "cell_type": "code",
   "execution_count": 160,
   "id": "6af2e620-c48a-43f6-addd-51053294a3b3",
   "metadata": {},
   "outputs": [
    {
     "name": "stdout",
     "output_type": "stream",
     "text": [
      "Bernouli Accuracy 0.9485714285714286\n"
     ]
    }
   ],
   "source": [
    "BNBmodel = Pipeline([\n",
    "    ('vectorizer',CountVectorizer()),\n",
    "    ('bnb',  BernoulliNB())\n",
    "])\n",
    "\n",
    "BNBmodel.fit(x_train,y_train)\n",
    "BNBaccuracy = BNBmodel.score(x_test,y_test)\n",
    "print(\"Bernouli Accuracy\", BNBaccuracy)"
   ]
  },
  {
   "cell_type": "code",
   "execution_count": 163,
   "id": "e7920874-8f28-48ff-bf48-ba28cf7e3055",
   "metadata": {},
   "outputs": [
    {
     "name": "stdout",
     "output_type": "stream",
     "text": [
      "XGB Accuracy 0.7960630655288696\n"
     ]
    }
   ],
   "source": [
    "xgbModel = Pipeline([\n",
    "    ('vectorizer',CountVectorizer()),\n",
    "    ('xgb',  XGBRegressor())\n",
    "])\n",
    "xgbModel.fit(x_train, y_train)\n",
    "xgbAccuracy = xgbModel.score(x_test, y_test)\n",
    "print(\"XGB Accuracy\", xgbAccuracy)"
   ]
  },
  {
   "cell_type": "code",
   "execution_count": 173,
   "id": "94f9fa3e-525d-45d1-9be8-9bd9a2f0626f",
   "metadata": {},
   "outputs": [
    {
     "name": "stdout",
     "output_type": "stream",
     "text": [
      "SVM Accuracy 0.8914285714285715\n"
     ]
    }
   ],
   "source": [
    "svmModel = Pipeline([\n",
    "    ('vectorizer',CountVectorizer()),\n",
    "    ('svm',  SVC())\n",
    "])\n",
    "svmModel.fit(x_train, y_train)\n",
    "svmAccuracy = svmModel.score(x_test, y_test)\n",
    "print(\"SVM Accuracy\", svmAccuracy)"
   ]
  },
  {
   "cell_type": "markdown",
   "id": "be5d0e07-9687-4c54-bd57-8567d11225d4",
   "metadata": {},
   "source": [
    "# 6. Fine Tune the Model\n",
    "\n",
    "With the select model descibe the steps taken to acheve the best results possiable \n"
   ]
  },
  {
   "cell_type": "code",
   "execution_count": 187,
   "id": "4f425bc7-d0b8-4c00-a2b4-e220a46264bc",
   "metadata": {},
   "outputs": [
    {
     "ename": "NameError",
     "evalue": "name 'MultinomitalNB' is not defined",
     "output_type": "error",
     "traceback": [
      "\u001b[0;31m---------------------------------------------------------------------------\u001b[0m",
      "\u001b[0;31mNameError\u001b[0m                                 Traceback (most recent call last)",
      "Cell \u001b[0;32mIn[187], line 3\u001b[0m\n\u001b[1;32m      1\u001b[0m NBmodel \u001b[38;5;241m=\u001b[39m Pipeline([\n\u001b[1;32m      2\u001b[0m     (\u001b[38;5;124m'\u001b[39m\u001b[38;5;124mvectorizer\u001b[39m\u001b[38;5;124m'\u001b[39m,CountVectorizer()),\n\u001b[0;32m----> 3\u001b[0m     (\u001b[38;5;124m'\u001b[39m\u001b[38;5;124mnb\u001b[39m\u001b[38;5;124m'\u001b[39m, \u001b[43mMultinomitalNB\u001b[49m(alpha \u001b[38;5;241m=\u001b[39m \u001b[38;5;241m1\u001b[39m))\n\u001b[1;32m      4\u001b[0m ])\n\u001b[1;32m      6\u001b[0m NBmodel\u001b[38;5;241m.\u001b[39mfit(x_train, y_train)\n\u001b[1;32m      7\u001b[0m NBaccuracy \u001b[38;5;241m=\u001b[39m NBmodel\u001b[38;5;241m.\u001b[39mscore(x_test, y_test)\n",
      "\u001b[0;31mNameError\u001b[0m: name 'MultinomitalNB' is not defined"
     ]
    }
   ],
   "source": [
    "NBmodel = Pipeline([\n",
    "    ('vectorizer',CountVectorizer()),\n",
    "    ('nb', Multinomai(alpha = 1))\n",
    "])\n",
    "\n",
    "NBmodel.fit(x_train, y_train)\n",
    "NBaccuracy = NBmodel.score(x_test, y_test)\n",
    "print(\"MultinomialNB Accuracy\", NBaccuracy)\n",
    "\n",
    "#Tried changing the different alpha values but the highest accuracy was still 98.2%\n",
    "\n",
    "#Saves the model\n",
    "joblib.dump(NBmodel, \"NBmodel.joblib\")\n",
    "print(\"Model Saved\")"
   ]
  },
  {
   "cell_type": "markdown",
   "id": "d32236cc-ef91-45b5-a453-20dda940d1c7",
   "metadata": {},
   "source": [
    "# 7. Present\n",
    "In a customer faceing Document provide summery of finding and detail approach taken\n"
   ]
  },
  {
   "cell_type": "code",
   "execution_count": null,
   "id": "abd83928-fccd-4f49-9b0c-88a0d3c6afb0",
   "metadata": {},
   "outputs": [],
   "source": []
  }
 ],
 "metadata": {
  "kernelspec": {
   "display_name": "Python 3 (ipykernel)",
   "language": "python",
   "name": "python3"
  },
  "language_info": {
   "codemirror_mode": {
    "name": "ipython",
    "version": 3
   },
   "file_extension": ".py",
   "mimetype": "text/x-python",
   "name": "python",
   "nbconvert_exporter": "python",
   "pygments_lexer": "ipython3",
   "version": "3.10.10"
  }
 },
 "nbformat": 4,
 "nbformat_minor": 5
}
