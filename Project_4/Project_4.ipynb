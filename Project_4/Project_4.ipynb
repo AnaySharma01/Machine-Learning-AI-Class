{
 "cells": [
  {
   "cell_type": "code",
   "execution_count": 20,
   "id": "505f526c-ec8e-46da-b80f-873e5ff2d32e",
   "metadata": {},
   "outputs": [],
   "source": [
    "# This Python 3 environment comes with many helpful analytics libraries installed\n",
    "# It is defined by the kaggle/python Docker image: https://github.com/kaggle/docker-python\n",
    "# For example, here's several helpful packages to load\n",
    "\n",
    "\n",
    "# Input data files are available in the read-only \"../input/\" directory\n",
    "# For example, running this (by clicking run or pressing Shift+Enter) will list all files under the input directory\n",
    "\n",
    "import os\n",
    "import pandas as pd\n",
    "import numpy as np\n",
    "import matplotlib.pyplot as plt "
   ]
  },
  {
   "cell_type": "markdown",
   "id": "1da549c3-c1d7-4baa-b0eb-509581c4afcb",
   "metadata": {},
   "source": [
    "# 1. Frame the problem\n",
    "Using the customer description, Define the problem your trying to solve in your own words (remember this is not technial but must be specific so the customer understands the project"
   ]
  },
  {
   "cell_type": "code",
   "execution_count": 21,
   "id": "61faa4b4-ac95-4774-8b6a-3b0ad14595d3",
   "metadata": {},
   "outputs": [],
   "source": [
    "#Create an ml model that predicts whether a given email is spam or ham"
   ]
  },
  {
   "cell_type": "markdown",
   "id": "34051845-b590-4a89-b079-3000881862e3",
   "metadata": {},
   "source": [
    "# 2. Get the Data \n",
    "Define how you recieved the data (provided, gathered..)"
   ]
  },
  {
   "cell_type": "code",
   "execution_count": null,
   "id": "7bc6c1c7-81d6-46b0-8259-ada2c78e34e5",
   "metadata": {},
   "outputs": [],
   "source": [
    "#Recieved and read the data from the text folder using pandas and os\n",
    "path = \"Email_Archive\"\n",
    "dataFrames = []\n",
    "\n",
    "for file in os.listdir(path):\n",
    "     if (file.endswith(\"txt\")):\n",
    "         file = os.path.join(path, file)\n",
    "         actualFile = pd.read_csv(file, sep=',')\n",
    "         dataFrames.append(actualFile)\n",
    "\n",
    "dataFrame = pd.concat(dataFrames, ignore_index=True)\n",
    "\n",
    "dataFrame.head()"
   ]
  },
  {
   "cell_type": "markdown",
   "id": "19019dbf-d5ba-48b1-aa1d-0a0ccd54a8bd",
   "metadata": {},
   "source": [
    "# 3. Explore the Data\n",
    "Gain insights into the data you have from step 2, making sure to identify any bias"
   ]
  },
  {
   "cell_type": "code",
   "execution_count": 44,
   "id": "b9c038b7-56e9-4fb5-adaa-a8ffca601c52",
   "metadata": {},
   "outputs": [],
   "source": [
    "for file in dataFrame:\n",
    "    if(file.startswith(\"s\")):\n",
    "            print(file)\n"
   ]
  },
  {
   "cell_type": "code",
   "execution_count": null,
   "id": "56d1f0bd-2c5f-41c2-a895-f6a33be4ca32",
   "metadata": {},
   "outputs": [],
   "source": []
  }
 ],
 "metadata": {
  "kernelspec": {
   "display_name": "Python 3 (ipykernel)",
   "language": "python",
   "name": "python3"
  },
  "language_info": {
   "codemirror_mode": {
    "name": "ipython",
    "version": 3
   },
   "file_extension": ".py",
   "mimetype": "text/x-python",
   "name": "python",
   "nbconvert_exporter": "python",
   "pygments_lexer": "ipython3",
   "version": "3.10.10"
  }
 },
 "nbformat": 4,
 "nbformat_minor": 5
}
