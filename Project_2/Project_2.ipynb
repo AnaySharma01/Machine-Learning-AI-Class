{
 "cells": [
  {
   "cell_type": "code",
   "execution_count": 14,
   "metadata": {
    "_cell_guid": "b1076dfc-b9ad-4769-8c92-a6c4dae69d19",
    "_uuid": "8f2839f25d086af736a60e9eeb907d3b93b6e0e5",
    "editable": true,
    "slideshow": {
     "slide_type": ""
    },
    "tags": []
   },
   "outputs": [
    {
     "name": "stdout",
     "output_type": "stream",
     "text": [
      "./Chicago_HomeHarvest_2025.csv\n",
      "./Project_2.ipynb\n",
      "./.ipynb_checkpoints/Project_2-checkpoint.ipynb\n",
      "./.ipynb_checkpoints/Chicago_HomeHarvest_2025-checkpoint.csv\n"
     ]
    }
   ],
   "source": [
    "# This Python 3 environment comes with many helpful analytics libraries installed\n",
    "# It is defined by the kaggle/python Docker image: https://github.com/kaggle/docker-python\n",
    "# For example, here's several helpful packages to load\n",
    "\n",
    "\n",
    "# Input data files are available in the read-only \"../input/\" directory\n",
    "# For example, running this (by clicking run or pressing Shift+Enter) will list all files under the input directory\n",
    "\n",
    "import os\n",
    "from bs4 import BeautifulSoup\n",
    "import requests\n",
    "import pandas as pd\n",
    "from homeharvest import scrape_property\n",
    "from datetime import datetime\n",
    "import time\n",
    "import json\n",
    "import numpy\n",
    "import matplotlib.pyplot as plt\n",
    "from sklearn.tree import DecisionTreeClassifier, plot_tree\n",
    "from sklearn.model_selection import train_test_split\n",
    "\n",
    "for dirname, _, filenames in os.walk(\"./\"):\n",
    "    for filename in filenames:\n",
    "        print(os.path.join(dirname, filename))\n",
    "\n",
    "# You can write up to 20GB to the current directory (/kaggle/working/) that gets preserved as output when you create a version using \"Save & Run All\"\n",
    "# You can also write temporary files to /kaggle/temp/, but they won't be saved outside of the current session"
   ]
  },
  {
   "cell_type": "markdown",
   "metadata": {},
   "source": [
    "# 1. Frame the problem\n",
    "Using the customer description, Define the problem your trying to solve in your own words (remember this is not technial but must be specific so the customer understands the project"
   ]
  },
  {
   "cell_type": "code",
   "execution_count": 15,
   "metadata": {},
   "outputs": [],
   "source": [
    "#Scrape for housing data in Chicago, Illinois and identify trends using machine learning algorithms"
   ]
  },
  {
   "cell_type": "markdown",
   "metadata": {},
   "source": [
    "# 2. Get the Data \n",
    "Define how you recieved the data (provided, gathered..)"
   ]
  },
  {
   "cell_type": "code",
   "execution_count": 52,
   "metadata": {
    "editable": true,
    "scrolled": true,
    "slideshow": {
     "slide_type": ""
    },
    "tags": []
   },
   "outputs": [
    {
     "data": {
      "text/html": [
       "<div>\n",
       "<style scoped>\n",
       "    .dataframe tbody tr th:only-of-type {\n",
       "        vertical-align: middle;\n",
       "    }\n",
       "\n",
       "    .dataframe tbody tr th {\n",
       "        vertical-align: top;\n",
       "    }\n",
       "\n",
       "    .dataframe thead th {\n",
       "        text-align: right;\n",
       "    }\n",
       "</style>\n",
       "<table border=\"1\" class=\"dataframe\">\n",
       "  <thead>\n",
       "    <tr style=\"text-align: right;\">\n",
       "      <th></th>\n",
       "      <th>property_url</th>\n",
       "      <th>property_id</th>\n",
       "      <th>listing_id</th>\n",
       "      <th>permalink</th>\n",
       "      <th>mls</th>\n",
       "      <th>mls_id</th>\n",
       "      <th>status</th>\n",
       "      <th>mls_status</th>\n",
       "      <th>text</th>\n",
       "      <th>style</th>\n",
       "      <th>...</th>\n",
       "      <th>builder_id</th>\n",
       "      <th>builder_name</th>\n",
       "      <th>office_id</th>\n",
       "      <th>office_mls_set</th>\n",
       "      <th>office_name</th>\n",
       "      <th>office_email</th>\n",
       "      <th>office_phones</th>\n",
       "      <th>nearby_schools</th>\n",
       "      <th>primary_photo</th>\n",
       "      <th>alt_photos</th>\n",
       "    </tr>\n",
       "  </thead>\n",
       "  <tbody>\n",
       "    <tr>\n",
       "      <th>0</th>\n",
       "      <td>https://www.realtor.com/realestateandhomes-det...</td>\n",
       "      <td>8466932468</td>\n",
       "      <td>2.984323e+09</td>\n",
       "      <td>545-N-Dearborn-St-Apt-910_Chicago_IL_60654_M84...</td>\n",
       "      <td>CHIL</td>\n",
       "      <td>12421436.0</td>\n",
       "      <td>SOLD</td>\n",
       "      <td>Sold</td>\n",
       "      <td>Rarely available 1-bed, 1-bath corner unit wit...</td>\n",
       "      <td>CONDOS</td>\n",
       "      <td>...</td>\n",
       "      <td>NaN</td>\n",
       "      <td>NaN</td>\n",
       "      <td>446831.0</td>\n",
       "      <td>O-CHIL-16379</td>\n",
       "      <td>@properties Christie's International Real Estate</td>\n",
       "      <td>jaynecocoran@atproperties.com</td>\n",
       "      <td>[{'number': '3122540200', 'type': 'Office', 'p...</td>\n",
       "      <td>Il Dept Of Chldrn And Family Svcs, Chicago Pub...</td>\n",
       "      <td>https://ap.rdcpix.com/3e91fc48313651ba6bc4e31d...</td>\n",
       "      <td>https://ap.rdcpix.com/3e91fc48313651ba6bc4e31d...</td>\n",
       "    </tr>\n",
       "    <tr>\n",
       "      <th>1</th>\n",
       "      <td>https://www.realtor.com/realestateandhomes-det...</td>\n",
       "      <td>8991099778</td>\n",
       "      <td>2.984985e+09</td>\n",
       "      <td>933-W-Van-Buren-St-Apt-910_Chicago_IL_60607_M8...</td>\n",
       "      <td>CHIL</td>\n",
       "      <td>12423814.0</td>\n",
       "      <td>SOLD</td>\n",
       "      <td>Sold</td>\n",
       "      <td>Welcome to this move-in ready, 2 bedroom/2 bat...</td>\n",
       "      <td>CONDOS</td>\n",
       "      <td>...</td>\n",
       "      <td>NaN</td>\n",
       "      <td>NaN</td>\n",
       "      <td>446831.0</td>\n",
       "      <td>O-CHIL-16379</td>\n",
       "      <td>@properties Christie's International Real Estate</td>\n",
       "      <td>jaynecocoran@atproperties.com</td>\n",
       "      <td>[{'number': '3122540200', 'type': 'Office', 'p...</td>\n",
       "      <td>Chicago Public Schools</td>\n",
       "      <td>https://ap.rdcpix.com/80412d5d99883413ac8ae9ab...</td>\n",
       "      <td>https://ap.rdcpix.com/80412d5d99883413ac8ae9ab...</td>\n",
       "    </tr>\n",
       "    <tr>\n",
       "      <th>2</th>\n",
       "      <td>https://www.realtor.com/realestateandhomes-det...</td>\n",
       "      <td>7406824871</td>\n",
       "      <td>2.982854e+09</td>\n",
       "      <td>6005-N-Canfield-Ave_Chicago_IL_60631_M74068-24871</td>\n",
       "      <td>CHIL</td>\n",
       "      <td>12387302.0</td>\n",
       "      <td>SOLD</td>\n",
       "      <td>Sold</td>\n",
       "      <td>Welcome home to a solid, all brick raised ranc...</td>\n",
       "      <td>SINGLE_FAMILY</td>\n",
       "      <td>...</td>\n",
       "      <td>NaN</td>\n",
       "      <td>NaN</td>\n",
       "      <td>NaN</td>\n",
       "      <td>O-CHIL-28406</td>\n",
       "      <td>Peter Drossos Real Estate</td>\n",
       "      <td>NaN</td>\n",
       "      <td>[{'number': '(773) 593-5626', 'type': 'Mobile'...</td>\n",
       "      <td>Region 05 North Cook Intermediate Service Cent...</td>\n",
       "      <td>https://ap.rdcpix.com/f90ebc293d8c08455ac62406...</td>\n",
       "      <td>https://ap.rdcpix.com/f90ebc293d8c08455ac62406...</td>\n",
       "    </tr>\n",
       "    <tr>\n",
       "      <th>3</th>\n",
       "      <td>https://www.realtor.com/realestateandhomes-det...</td>\n",
       "      <td>7426501379</td>\n",
       "      <td>2.985117e+09</td>\n",
       "      <td>1610-W-Fullerton-Ave-Unit-210_Chicago_IL_60614...</td>\n",
       "      <td>CHIL</td>\n",
       "      <td>12439722.0</td>\n",
       "      <td>SOLD</td>\n",
       "      <td>Sold</td>\n",
       "      <td>Discover the perfect blend of style, comfort, ...</td>\n",
       "      <td>CONDOS</td>\n",
       "      <td>...</td>\n",
       "      <td>NaN</td>\n",
       "      <td>NaN</td>\n",
       "      <td>1948102.0</td>\n",
       "      <td>O-CHIL-85774</td>\n",
       "      <td>@properties East Lincoln Park</td>\n",
       "      <td>melodytorrens@atproperties.com</td>\n",
       "      <td>[{'number': '7734720200', 'type': 'Office', 'p...</td>\n",
       "      <td>Chicago Public Schools</td>\n",
       "      <td>https://ap.rdcpix.com/445877702e5a5435fe520229...</td>\n",
       "      <td>https://ap.rdcpix.com/445877702e5a5435fe520229...</td>\n",
       "    </tr>\n",
       "    <tr>\n",
       "      <th>4</th>\n",
       "      <td>https://www.realtor.com/realestateandhomes-det...</td>\n",
       "      <td>7317660066</td>\n",
       "      <td>2.983305e+09</td>\n",
       "      <td>4250-N-Marine-Dr-Apt-2105_Chicago_IL_60613_M73...</td>\n",
       "      <td>CHIL</td>\n",
       "      <td>12392775.0</td>\n",
       "      <td>SOLD</td>\n",
       "      <td>Sold</td>\n",
       "      <td>Looking for a home with a captivating, unobstr...</td>\n",
       "      <td>CONDOS</td>\n",
       "      <td>...</td>\n",
       "      <td>NaN</td>\n",
       "      <td>NaN</td>\n",
       "      <td>4298235.0</td>\n",
       "      <td>O-CHIL-87738</td>\n",
       "      <td>Keller Williams ONEChicago</td>\n",
       "      <td>NaN</td>\n",
       "      <td>[{'number': '3122162422', 'type': 'Office', 'p...</td>\n",
       "      <td>Chicago Public Schools</td>\n",
       "      <td>https://ap.rdcpix.com/25e83ee41c2b4df13b3d7f13...</td>\n",
       "      <td>https://ap.rdcpix.com/25e83ee41c2b4df13b3d7f13...</td>\n",
       "    </tr>\n",
       "  </tbody>\n",
       "</table>\n",
       "<p>5 rows × 64 columns</p>\n",
       "</div>"
      ],
      "text/plain": [
       "                                        property_url  property_id  \\\n",
       "0  https://www.realtor.com/realestateandhomes-det...   8466932468   \n",
       "1  https://www.realtor.com/realestateandhomes-det...   8991099778   \n",
       "2  https://www.realtor.com/realestateandhomes-det...   7406824871   \n",
       "3  https://www.realtor.com/realestateandhomes-det...   7426501379   \n",
       "4  https://www.realtor.com/realestateandhomes-det...   7317660066   \n",
       "\n",
       "     listing_id                                          permalink   mls  \\\n",
       "0  2.984323e+09  545-N-Dearborn-St-Apt-910_Chicago_IL_60654_M84...  CHIL   \n",
       "1  2.984985e+09  933-W-Van-Buren-St-Apt-910_Chicago_IL_60607_M8...  CHIL   \n",
       "2  2.982854e+09  6005-N-Canfield-Ave_Chicago_IL_60631_M74068-24871  CHIL   \n",
       "3  2.985117e+09  1610-W-Fullerton-Ave-Unit-210_Chicago_IL_60614...  CHIL   \n",
       "4  2.983305e+09  4250-N-Marine-Dr-Apt-2105_Chicago_IL_60613_M73...  CHIL   \n",
       "\n",
       "       mls_id status mls_status  \\\n",
       "0  12421436.0   SOLD       Sold   \n",
       "1  12423814.0   SOLD       Sold   \n",
       "2  12387302.0   SOLD       Sold   \n",
       "3  12439722.0   SOLD       Sold   \n",
       "4  12392775.0   SOLD       Sold   \n",
       "\n",
       "                                                text          style  ...  \\\n",
       "0  Rarely available 1-bed, 1-bath corner unit wit...         CONDOS  ...   \n",
       "1  Welcome to this move-in ready, 2 bedroom/2 bat...         CONDOS  ...   \n",
       "2  Welcome home to a solid, all brick raised ranc...  SINGLE_FAMILY  ...   \n",
       "3  Discover the perfect blend of style, comfort, ...         CONDOS  ...   \n",
       "4  Looking for a home with a captivating, unobstr...         CONDOS  ...   \n",
       "\n",
       "  builder_id builder_name  office_id office_mls_set  \\\n",
       "0        NaN          NaN   446831.0   O-CHIL-16379   \n",
       "1        NaN          NaN   446831.0   O-CHIL-16379   \n",
       "2        NaN          NaN        NaN   O-CHIL-28406   \n",
       "3        NaN          NaN  1948102.0   O-CHIL-85774   \n",
       "4        NaN          NaN  4298235.0   O-CHIL-87738   \n",
       "\n",
       "                                        office_name  \\\n",
       "0  @properties Christie's International Real Estate   \n",
       "1  @properties Christie's International Real Estate   \n",
       "2                         Peter Drossos Real Estate   \n",
       "3                     @properties East Lincoln Park   \n",
       "4                        Keller Williams ONEChicago   \n",
       "\n",
       "                     office_email  \\\n",
       "0   jaynecocoran@atproperties.com   \n",
       "1   jaynecocoran@atproperties.com   \n",
       "2                             NaN   \n",
       "3  melodytorrens@atproperties.com   \n",
       "4                             NaN   \n",
       "\n",
       "                                       office_phones  \\\n",
       "0  [{'number': '3122540200', 'type': 'Office', 'p...   \n",
       "1  [{'number': '3122540200', 'type': 'Office', 'p...   \n",
       "2  [{'number': '(773) 593-5626', 'type': 'Mobile'...   \n",
       "3  [{'number': '7734720200', 'type': 'Office', 'p...   \n",
       "4  [{'number': '3122162422', 'type': 'Office', 'p...   \n",
       "\n",
       "                                      nearby_schools  \\\n",
       "0  Il Dept Of Chldrn And Family Svcs, Chicago Pub...   \n",
       "1                             Chicago Public Schools   \n",
       "2  Region 05 North Cook Intermediate Service Cent...   \n",
       "3                             Chicago Public Schools   \n",
       "4                             Chicago Public Schools   \n",
       "\n",
       "                                       primary_photo  \\\n",
       "0  https://ap.rdcpix.com/3e91fc48313651ba6bc4e31d...   \n",
       "1  https://ap.rdcpix.com/80412d5d99883413ac8ae9ab...   \n",
       "2  https://ap.rdcpix.com/f90ebc293d8c08455ac62406...   \n",
       "3  https://ap.rdcpix.com/445877702e5a5435fe520229...   \n",
       "4  https://ap.rdcpix.com/25e83ee41c2b4df13b3d7f13...   \n",
       "\n",
       "                                          alt_photos  \n",
       "0  https://ap.rdcpix.com/3e91fc48313651ba6bc4e31d...  \n",
       "1  https://ap.rdcpix.com/80412d5d99883413ac8ae9ab...  \n",
       "2  https://ap.rdcpix.com/f90ebc293d8c08455ac62406...  \n",
       "3  https://ap.rdcpix.com/445877702e5a5435fe520229...  \n",
       "4  https://ap.rdcpix.com/25e83ee41c2b4df13b3d7f13...  \n",
       "\n",
       "[5 rows x 64 columns]"
      ]
     },
     "execution_count": 52,
     "metadata": {},
     "output_type": "execute_result"
    }
   ],
   "source": [
    "#Used Home Harvest to scrape the housing data for Chicago\n",
    "# time = datetime.now().strftime(\"%Y%m%d_%H%M%S\")\n",
    "# filename = f\"Chicago_HomeHarvest_{time}.csv\"\n",
    "\n",
    "# properties = scrape_property(location=\"Chicago, IL\", listing_type=\"sold\", past_days = 200,\n",
    "#     extra_property_data=True) \n",
    "\n",
    "# print(f\"Number of properties: {len(properties)}\")\n",
    "# properties.to_csv(filename, index=False)\n",
    "# print(properties.head())\n",
    "\n",
    "#Then used pandas to read it\n",
    "data = pd.read_csv(\"Chicago_HomeHarvest_2025.csv\")\n",
    "data.head()"
   ]
  },
  {
   "cell_type": "markdown",
   "metadata": {},
   "source": [
    "# 3. Explore the Data\n",
    "Gain insights into the data you have from step 2, making sure to identify any bias"
   ]
  },
  {
   "cell_type": "code",
   "execution_count": 70,
   "metadata": {},
   "outputs": [
    {
     "name": "stdout",
     "output_type": "stream",
     "text": [
      "New Houses Less than $1 Million 0.011112384007331883\n",
      "New Houses $1 Million or More 0.0457516339869281\n",
      "Two Or Less Beds Average Price 357690.37541862024\n",
      "More than Two Beds Average Price 932102.9582989265\n"
     ]
    },
    {
     "data": {
      "image/png": "[encoded data removed]",
      "text/plain": [
       "<Figure size 640x480 with 1 Axes>"
      ]
     },
     "metadata": {},
     "output_type": "display_data"
    },
    {
     "data": {
      "image/png": "[encoded data removed]",
      "text/plain": [
       "<Figure size 640x480 with 1 Axes>"
      ]
     },
     "metadata": {},
     "output_type": "display_data"
    },
    {
     "data": {
      "image/png": "[encoded data removed]",
      "text/plain": [
       "<Figure size 640x480 with 1 Axes>"
      ]
     },
     "metadata": {},
     "output_type": "display_data"
    }
   ],
   "source": [
    "#Checking each category\n",
    "lessThan1MilHouses = data.loc[data.sold_price < 1000000]['new_construction']\n",
    "lessThan1MilHousesRate = sum(lessThan1MilHouses)/len(lessThan1MilHouses)\n",
    "print(\"New Houses Less than $1 Million\", lessThan1MilHousesRate)\n",
    "\n",
    "houseInMillions = data.loc[data.sold_price >= 1000000]['new_construction']\n",
    "houseInMillionsRate = sum(houseInMillions)/len(houseInMillions)\n",
    "print(\"New Houses $1 Million or More\", houseInMillionsRate)\n",
    "\n",
    "cheapHouses = data.loc[data.sold_price <= 250000]\n",
    "expensiveHouses = data.loc[data.sold_price > 250000]\n",
    "\n",
    "twoOrLessBeds = data.loc[data.beds < 3]['sold_price']\n",
    "twoOrLessBedRates = sum(twoOrLessBeds)/len(twoOrLessBeds)\n",
    "print(\"Two Or Less Beds Average Price\", twoOrLessBedRates)\n",
    "moreThanTwoBeds = data.loc[data.beds > 3]['sold_price']\n",
    "moreThanTwoBedRates = sum(moreThanTwoBeds)/len(moreThanTwoBeds)\n",
    "print(\"More than Two Beds Average Price\", moreThanTwoBedRates)\n",
    "\n",
    "plt.bar(lessThan1MilHouses, lessThan1MilHousesRate, color = 'red')\n",
    "plt.title('Less Than $1 Million New House Rate')\n",
    "plt.xlabel('Less Than $1 Million New Houses')\n",
    "plt.ylabel('Less Than $1 Million New House Rate')\n",
    "plt.show()\n",
    "\n",
    "plt.bar(houseInMillions, houseInMillionsRate, color = 'blue')\n",
    "plt.title('$1 Million or More New House Rate')\n",
    "plt.xlabel('$1 Million or More New Houses')\n",
    "plt.ylabel('$1 Million or More New House Rate')\n",
    "plt.show() \n",
    "\n",
    "plt.scatter(twoOrLessBedRates, moreThanTwoBedRates)\n",
    "plt.title(\"Two or Less Bed Rates vs. More than Two Bed Rates\")\n",
    "plt.xlabel('Average Price of Less than 3 Beds')\n",
    "plt.ylabel('$Average Price of More than 2 Beds')\n",
    "plt.show()\n",
    "#There is very little data on new houses\n",
    "#The number of beds looks more promising to see trends\n",
    "\n",
    "\n",
    "\n",
    "\n"
   ]
  },
  {
   "cell_type": "markdown",
   "metadata": {},
   "source": [
    "# 4.Prepare the Data\n",
    "\n",
    "\n",
    "Apply any data transformations and explain what and why\n"
   ]
  },
  {
   "cell_type": "code",
   "execution_count": 74,
   "metadata": {
    "scrolled": true
   },
   "outputs": [],
   "source": [
    "#Converts the data to variables for training \n",
    "#To check the new construction price trends\n",
    "xPrices = data['sold_price'].values\n",
    "yNewHouse = data['new_construction'].values\n",
    "\n",
    "\n",
    "#Prepares variables for cheap and expensive house modeling\n",
    "xCheapHouses = cheapHouses.values\n",
    "yExpensiveHouses = expensiveHouses.values\n",
    "\n",
    "#Prepares the bed rates for training \n",
    "xLessThanTwoBeds = twoOrLessBeds.values\n",
    "yMoreThanTwoBeds = moreThanTwoBeds.values"
   ]
  },
  {
   "cell_type": "markdown",
   "metadata": {},
   "source": [
    "# 5. Model the data\n",
    "Using selected ML models, experment with your choices and describe your findings. Finish by selecting a Model to continue with\n"
   ]
  },
  {
   "cell_type": "code",
   "execution_count": null,
   "metadata": {},
   "outputs": [],
   "source": [
    "\n",
    "\n",
    "\n"
   ]
  },
  {
   "cell_type": "markdown",
   "metadata": {},
   "source": [
    "# 6. Fine Tune the Model\n",
    "\n",
    "With the select model descibe the steps taken to acheve the best rusults possiable \n"
   ]
  },
  {
   "cell_type": "code",
   "execution_count": null,
   "metadata": {},
   "outputs": [],
   "source": []
  },
  {
   "cell_type": "markdown",
   "metadata": {},
   "source": [
    "# 7. Present\n",
    "In a customer faceing Document provide summery of finding and detail approach taken\n"
   ]
  },
  {
   "cell_type": "code",
   "execution_count": null,
   "metadata": {},
   "outputs": [],
   "source": []
  },
  {
   "cell_type": "markdown",
   "metadata": {},
   "source": [
    "# 8. Launch the Model System\n",
    "Define your production run code, This should be self susficent and require only your model pramaters \n"
   ]
  },
  {
   "cell_type": "code",
   "execution_count": null,
   "metadata": {},
   "outputs": [],
   "source": [
    "def infrence(prams):\n",
    "    results = m.run(prams)\n",
    "    return results "
   ]
  }
 ],
 "metadata": {
  "kernelspec": {
   "display_name": "Python 3 (ipykernel)",
   "language": "python",
   "name": "python3"
  },
  "language_info": {
   "codemirror_mode": {
    "name": "ipython",
    "version": 3
   },
   "file_extension": ".py",
   "mimetype": "text/x-python",
   "name": "python",
   "nbconvert_exporter": "python",
   "pygments_lexer": "ipython3",
   "version": "3.10.10"
  },
  "toc-autonumbering": false,
  "toc-showmarkdowntxt": false
 },
 "nbformat": 4,
 "nbformat_minor": 4
}
